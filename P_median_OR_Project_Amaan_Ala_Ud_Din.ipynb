{
  "nbformat": 4,
  "nbformat_minor": 0,
  "metadata": {
    "colab": {
      "name": "P-median-OR Project-Amaan Ala Ud Din.ipynb",
      "provenance": [],
      "collapsed_sections": []
    },
    "kernelspec": {
      "name": "python3",
      "display_name": "Python 3"
    },
    "language_info": {
      "name": "python"
    }
  },
  "cells": [
    {
      "cell_type": "code",
      "source": [
        "!pip install pulp"
      ],
      "metadata": {
        "colab": {
          "base_uri": "https://localhost:8080/"
        },
        "id": "KfpgJnC2CxCX",
        "outputId": "f44ec592-0fc6-4584-8d4c-c2dd10d469b5"
      },
      "execution_count": null,
      "outputs": [
        {
          "output_type": "stream",
          "name": "stdout",
          "text": [
            "Looking in indexes: https://pypi.org/simple, https://us-python.pkg.dev/colab-wheels/public/simple/\n",
            "Requirement already satisfied: pulp in /usr/local/lib/python3.7/dist-packages (2.6.0)\n"
          ]
        }
      ]
    },
    {
      "cell_type": "code",
      "source": [
        "import pandas as pd\n",
        "import pulp as p\n",
        "import matplotlib.pyplot as plt\n",
        "plt.style.use('seaborn-whitegrid')\n",
        "import numpy as np\n",
        "n_c=23 #number of customers\n",
        "n_f=23 #number of facilities\n",
        "\n",
        "\n",
        "#Create activation cost f for the facilities\n",
        "\n",
        "f=[600.00,528.17,730.43,606.06,1200.00,4166.67,833.33,666.67,1200.00,1111.11,625.00,1200.00,833.33,1450.00,568.18,1041.67,1653.85,1285.71,1000.00,750.00,965.52,550.00,923.08]\n",
        "\n",
        "col_names = ['col'+ str(i) for i in range(0,23)]\n",
        "df = pd.read_csv('Matrix.csv', names=col_names)\n",
        "df.tail()\n",
        "df=df.to_numpy()\n",
        "\n",
        "c=df.tolist()\n",
        "#print(c)\n",
        "\n",
        "def ilp_model(f,c,pVal):\n",
        "  n_c=len(c)\n",
        "  n_f=len(f)\n",
        "  \n",
        "  #code for the mathematical model\n",
        "  model = p.LpProblem('P-Median', p.LpMinimize)\n",
        "  \n",
        "  #we create y as the list of decisional binary variables acrive if we use the corrisponding facility\n",
        "  y = [0]*n_f\n",
        "  for j in range(n_f):\n",
        "    #nameV is the name of a specific variable for example (y4)\n",
        "    nameV=\"y\"+str(j);\n",
        "    y[j] = p.LpVariable(name=nameV,cat=p.LpBinary)\n",
        "   \n",
        "  #we create x as the matrix of decisional binary variables\n",
        "  x = [0]*n_c\n",
        "  for i in range(n_c):\n",
        "    x[i]=[0]*n_f\n",
        "    for j in range(n_f):    \n",
        "      nameV=\"x\"+str(i)+\"_\"+str(j);\n",
        "      x[i][j] = p.LpVariable(name=nameV,cat=p.LpBinary)\n",
        "  \n",
        " \n",
        "  #objective function\n",
        "  obj=p.LpAffineExpression()\n",
        "  for j in range(n_f):\n",
        "    obj+=f[j]*y[j] #MULTIPLYING FACILITY COST AND DV OF LOC\n",
        "  \n",
        "  for i in range(n_c):\n",
        "    for j in range(n_f):\n",
        "      obj+=c[i][j]*x[i][j]\n",
        "  \n",
        "  model+=obj\n",
        "  \n",
        "  #constraints each customer is served by a single facility\n",
        "  for i in range(n_c):\n",
        "    c1=p.LpAffineExpression()\n",
        "    for j in range(n_f):\n",
        "      c1+=x[i][j]\n",
        "    model+=c1==1\n",
        "  \n",
        "  #The customer i is served by only an active facility\n",
        "  for i in range(n_c):\n",
        "    for j in range(n_f):\n",
        "      model+=x[i][j]<=y[j]\n",
        "  \n",
        "  #set required number of active facilities\n",
        "  c3=p.LpAffineExpression()\n",
        "  for j in range(n_f):\n",
        "    c3+=y[j]\n",
        "  model+=c3==pVal\n",
        "\n",
        "  f=open(\"model.pl\",\"w\")\n",
        "  f.write(str(model))\n",
        "  f.close()\n",
        "  \n",
        "\n",
        "  status = model.solve()  # Solver\n",
        "  \n",
        "  print(\"Status:\",p.LpStatus[status])  \n",
        "  \n",
        "  obj=p.value(model.objective)\n",
        "  #print(\"Objective Value:\",obj)\n",
        "  out=[False]*n_f\n",
        "  for j in range(n_f):\n",
        "    if p.value(y[j])>0.5:\n",
        "      out[j]=True  \n",
        "  #print (x)\n",
        "  #print (y) \n",
        "  return out\n",
        "\n",
        "  \n",
        "#Function that compute the objective function value for a solution\n",
        "def evaluate_out(f,c,ris):\n",
        "  n_c=len(c)\n",
        "  n_f=len(f)\n",
        "  cost=0\n",
        "  #Sum of the activation cost of the facilities used.\n",
        "  for j in range(n_f):\n",
        "    if ris[j]:\n",
        "      cost+=f[j]\n",
        "  \n",
        "  #We choose the closest facility for each customer\n",
        "  for i in range(n_c):\n",
        "    cf=100000000\n",
        "    for j in range(n_f):\n",
        "      if ris[j]:\n",
        "        if cf>c[i][j]:\n",
        "          cf=c[i][j]\n",
        "    cost+=cf\n",
        "    \n",
        "  return cost;\n",
        "  \n",
        "\n",
        "pVal=1 #facilities to active\n",
        "\n",
        "milp_ris=ilp_model(f,c,pVal)\n",
        "print(milp_ris)\n",
        "\n",
        "print(\"Cost Evaluation MILP:\",evaluate_out(f,c,milp_ris))\n",
        "\n",
        "\n",
        "\n",
        "\n"
      ],
      "metadata": {
        "id": "3s1EzDImgT36",
        "colab": {
          "base_uri": "https://localhost:8080/"
        },
        "outputId": "c62cdc91-cabb-448e-ddbc-87b5284ed2aa"
      },
      "execution_count": null,
      "outputs": [
        {
          "output_type": "stream",
          "name": "stdout",
          "text": [
            "Status: Optimal\n",
            "[False, False, True, False, False, False, False, False, False, False, False, False, False, False, False, False, False, False, False, False, False, False, False]\n",
            "Cost Evaluation MILP: 4334.32403\n"
          ]
        }
      ]
    }
  ]
}